{
 "cells": [
  {
   "cell_type": "code",
   "execution_count": 1,
   "metadata": {},
   "outputs": [],
   "source": [
    "# s={a, b, c, d, e, f}\n",
    "s = {0, 1, 2, 3, 4, 5}\n",
    "r = {(0, 0),(0, 0),(0, 1),(0, 2),(0, 3),(0, 4),(0, 5),\n",
    "     (1, 1),(1, 2),(1, 3),(1, 4),\n",
    "     (2, 2),(2, 3),(2, 4),(2, 5),\n",
    "     (3, 2),(3, 3),(3, 4),(3, 5),\n",
    "     (4, 3),(4, 4),(4, 5),\n",
    "     (5, 4),(5, 5),}"
   ]
  },
  {
   "cell_type": "code",
   "execution_count": 2,
   "metadata": {},
   "outputs": [],
   "source": [
    "def SetRelation_to_Matrix(Set, Relation):\n",
    "    Matrix = [[0 for i in range(len(Set))] for j in range(len(Set))]\n",
    "    for Tuple in Relation:\n",
    "        Matrix[Tuple[0]][Tuple[1]] = 1\n",
    "    return Matrix"
   ]
  },
  {
   "cell_type": "code",
   "execution_count": 3,
   "metadata": {},
   "outputs": [
    {
     "data": {
      "text/plain": [
       "[[1, 1, 1, 1, 1, 1],\n",
       " [0, 1, 1, 1, 1, 0],\n",
       " [0, 0, 1, 1, 1, 1],\n",
       " [0, 0, 1, 1, 1, 1],\n",
       " [0, 0, 0, 1, 1, 1],\n",
       " [0, 0, 0, 0, 1, 1]]"
      ]
     },
     "execution_count": 3,
     "metadata": {},
     "output_type": "execute_result"
    }
   ],
   "source": [
    "m = SetRelation_to_Matrix(s, r)\n",
    "m"
   ]
  },
  {
   "cell_type": "code",
   "execution_count": 4,
   "metadata": {},
   "outputs": [],
   "source": [
    "def Matrix_to_SetRelation(Matrix):\n",
    "    Set = {i for i in range(len(Matrix))}\n",
    "    Relation = set()\n",
    "    for i in range(len(Matrix)):\n",
    "        for j in range(len(Matrix)):\n",
    "            if Matrix[i][j] == 1:\n",
    "                Relation.add((i,j))\n",
    "    return Set, Relation"
   ]
  },
  {
   "cell_type": "code",
   "execution_count": 5,
   "metadata": {},
   "outputs": [],
   "source": [
    "s1, r1 = Matrix_to_SetRelation(m)"
   ]
  },
  {
   "cell_type": "code",
   "execution_count": 6,
   "metadata": {},
   "outputs": [
    {
     "name": "stdout",
     "output_type": "stream",
     "text": [
      "{0, 1, 2, 3, 4, 5}\n"
     ]
    }
   ],
   "source": [
    "print(s1)"
   ]
  },
  {
   "cell_type": "code",
   "execution_count": 7,
   "metadata": {},
   "outputs": [],
   "source": [
    "def print_relation(Relation):\n",
    "    bool_flag = True\n",
    "    for elem in sorted(Relation):\n",
    "        if bool_flag == True:\n",
    "            index_memo = elem[0]\n",
    "            print(elem, end = ',')\n",
    "            bool_flag = False\n",
    "        if(index_memo == elem[0]):\n",
    "            print(elem, end = ',')\n",
    "        else:\n",
    "            print(\"\\n\", end = '')\n",
    "            print(elem, end = ',')\n",
    "        index_memo = elem[0]"
   ]
  },
  {
   "cell_type": "code",
   "execution_count": 8,
   "metadata": {},
   "outputs": [
    {
     "name": "stdout",
     "output_type": "stream",
     "text": [
      "(0, 0),(0, 0),(0, 1),(0, 2),(0, 3),(0, 4),(0, 5),\n",
      "(1, 1),(1, 2),(1, 3),(1, 4),\n",
      "(2, 2),(2, 3),(2, 4),(2, 5),\n",
      "(3, 2),(3, 3),(3, 4),(3, 5),\n",
      "(4, 3),(4, 4),(4, 5),\n",
      "(5, 4),(5, 5),"
     ]
    }
   ],
   "source": [
    "print_relation(r1)"
   ]
  },
  {
   "cell_type": "code",
   "execution_count": 9,
   "metadata": {},
   "outputs": [],
   "source": [
    "def is_reflexive(Set, Relation):\n",
    "    Matrix = SetRelation_to_Matrix(Set, Relation)\n",
    "    reflexive = True\n",
    "    for i in range(len(Matrix)):\n",
    "        if Matrix[i][i] == 0:\n",
    "            reflexive = False\n",
    "            print(\"Non-reflexive relation: (\", i, \",\", i, \")\")\n",
    "    return reflexive\n",
    "\n",
    "def is_irreflexive(Set, Relation):\n",
    "    Matrix = SetRelation_to_Matrix(Set, Relation)\n",
    "    irreflexive = False\n",
    "    for i in range(len(Matrix)):\n",
    "        if Matrix[i][i] == 0:\n",
    "            irreflexive = True\n",
    "    return irreflexive"
   ]
  },
  {
   "cell_type": "code",
   "execution_count": 10,
   "metadata": {},
   "outputs": [],
   "source": [
    "def is_symmetric(Set, Relation):\n",
    "    Matrix = SetRelation_to_Matrix(Set, Relation)\n",
    "    symmetric = True\n",
    "    for a in range(len(Matrix)):\n",
    "        for b in range(len(Matrix)):\n",
    "            if Matrix[a][b] + Matrix[b][a] == 1:\n",
    "                print(\"Non-symmetric relation: (\", a, \",\", b, \") =/=> (\", b, \",\", a, \")\" )\n",
    "                symmetric = False\n",
    "                return symmetric\n",
    "    return symmetric\n",
    "\n",
    "def is_asymmetric(Set, Relation):\n",
    "    Matrix = SetRelation_to_Matrix(Set, Relation)\n",
    "    asymmetric = True\n",
    "    for a in range(len(Matrix)):\n",
    "        for b in range(len(Matrix)):\n",
    "            if Matrix[a][b] + Matrix[b][a] == 2 and a != b:\n",
    "                print(\"Non-asymmetric relation: (\", a, \",\", b, \") ==> (\", b, \",\", a, \")\" )\n",
    "                asymmetric = False\n",
    "                return asymmetric\n",
    "    return asymmetric\n",
    "\n",
    "def is_antisymmetric(Set, Relation):\n",
    "    Matrix = SetRelation_to_Matrix(Set, Relation)\n",
    "    antisymmetric = True\n",
    "    for a in range(len(Matrix)):\n",
    "        for b in range(len(Matrix)):\n",
    "            if Matrix[a][b] + Matrix[b][a] == 2 and a != b:\n",
    "                print(\"Non-antisymmetric relation: (\", a, \",\", b, \"), (\", b, \",\", a, \"), ==> \", a, \"=/=\", b )\n",
    "                antisymmetric = False\n",
    "                return antisymmetric\n",
    "    return antisymmetric"
   ]
  },
  {
   "cell_type": "code",
   "execution_count": 11,
   "metadata": {},
   "outputs": [],
   "source": [
    "def is_transitive(Set, Relation):\n",
    "    Matrix = SetRelation_to_Matrix(Set, Relation)\n",
    "    transitive = True\n",
    "    for a in range(len(Matrix)):\n",
    "        for b in range(len(Matrix)):\n",
    "            for c in range(len(Matrix)):\n",
    "                if Matrix[a][b] + Matrix[b][c] == 2 and Matrix[a][c] == 0 and len(set([a,b,c])) == 3:\n",
    "                    print(\"Non-transitive relation: (\", a, \",\", b, \"), (\", b, \",\", c, \") =/=> (\", a, \",\", c, \")\")\n",
    "                    transitive = False\n",
    "                    return transitive\n",
    "    return transitive\n",
    "\n",
    "def is_semitransitive(Set, Relation):\n",
    "    Matrix = SetRelation_to_Matrix(Set, Relation)\n",
    "    semitransitive = True\n",
    "    for a in range(len(Matrix)):\n",
    "        for b in range(len(Matrix)):\n",
    "            for c in range(len(Matrix)):\n",
    "                for d in range(len(Matrix)):\n",
    "                    if Matrix[a][b] + Matrix[b][c] == 2 and Matrix[a][d] + Matrix[d][c] == 0 and len(set([a,b,c,d])) == 4:\n",
    "                        print(\"Non-semi-transitive relation: (\", a, \",\", b, \"), (\", b, \",\", c, \") =/=> (\", a, \",\", d, \") or (\", d, \",\", c, \")\")\n",
    "                        semitransitive = False\n",
    "                        return semitransitive\n",
    "    return semitransitive\n",
    "\n",
    "def is_negativelytransitive(Set, Relation):\n",
    "    Matrix = SetRelation_to_Matrix(Set, Relation)\n",
    "    negativelytransitive = True\n",
    "    for a in range(len(Matrix)):\n",
    "        for b in range(len(Matrix)):\n",
    "            for c in range(len(Matrix)):\n",
    "                if Matrix[a][b] + Matrix[b][c] == 0 and Matrix[a][c] == 1 and a != c:\n",
    "                    print(\"Non-negatively-transitive relation: not(\", a, \",\", b, \") & not(\", b, \",\", c, \"), but (\", a, \",\", c, \")\")\n",
    "                    negativelytransitive = False\n",
    "                    return negativelytransitive\n",
    "    return negativelytransitive"
   ]
  },
  {
   "cell_type": "code",
   "execution_count": 12,
   "metadata": {},
   "outputs": [],
   "source": [
    "def is_Ferrers(Set, Relation):\n",
    "    Matrix = SetRelation_to_Matrix(Set, Relation)\n",
    "    Ferrers = True\n",
    "    for a in range(len(Matrix)):\n",
    "        for b in range(len(Matrix)):\n",
    "            for c in range(len(Matrix)):\n",
    "                for d in range(len(Matrix)):\n",
    "                    if Matrix[a][b] + Matrix[c][d] == 2 and Matrix[a][d] + Matrix[c][b] == 0 and len(set([a,b,c,d])) == 4:\n",
    "                        print(\"Non-Ferrers relation: (\", a, \",\", b, \"), (\", c, \",\", d, \") =/=> (\", a, \",\", d, \") or (\", c, \",\", b, \")\")\n",
    "                        Ferrers = False\n",
    "    return Ferrers\n",
    "\n",
    "def is_complete(Set, Relation):\n",
    "    Matrix = SetRelation_to_Matrix(Set, Relation)\n",
    "    complete = True\n",
    "    for a in range(len(Matrix)):\n",
    "        for b in range(len(Matrix)):\n",
    "            if Matrix[a][b] + Matrix[b][a] == 0:\n",
    "                print(\"Non-complete: no relation between \", a, \" and \", b)\n",
    "                complete = False\n",
    "    return complete\n",
    "\n",
    "def is_weaklycomplete(Set, Relation):\n",
    "    Matrix = SetRelation_to_Matrix(Set, Relation)\n",
    "    weaklycomplete = True\n",
    "    for a in range(len(Matrix)):\n",
    "        for b in range(len(Matrix)):\n",
    "            if Matrix[a][b] + Matrix[b][a] == 0 and a!= b:\n",
    "                print(\"Non-weakly-complete: no relation between \", a, \" and \", b)\n",
    "                weaklycomplete = False\n",
    "    return weaklycomplete"
   ]
  },
  {
   "cell_type": "code",
   "execution_count": null,
   "metadata": {},
   "outputs": [],
   "source": []
  },
  {
   "cell_type": "code",
   "execution_count": 13,
   "metadata": {},
   "outputs": [],
   "source": [
    "# s={a, b, c, d, e, f}\n",
    "s = {0, 1, 2, 3, 4, 5}\n",
    "r = {(0, 0),(0, 0),(0, 1),(0, 2),(0, 3),(0, 4),(0, 5),\n",
    "     (1, 1),(1, 2),(1, 3),(1, 4),\n",
    "     (2, 2),(2, 3),(2, 4),(2, 5),\n",
    "     (3, 2),(3, 3),(3, 4),(3, 5),\n",
    "     (4, 3),(4, 4),(4, 5),\n",
    "     (5, 4),(5, 5),}"
   ]
  },
  {
   "cell_type": "code",
   "execution_count": 14,
   "metadata": {},
   "outputs": [
    {
     "data": {
      "text/plain": [
       "(True, False)"
      ]
     },
     "execution_count": 14,
     "metadata": {},
     "output_type": "execute_result"
    }
   ],
   "source": [
    "is_reflexive(s,r), is_irreflexive(s,r)"
   ]
  },
  {
   "cell_type": "code",
   "execution_count": 15,
   "metadata": {},
   "outputs": [
    {
     "name": "stdout",
     "output_type": "stream",
     "text": [
      "Non-symmetric relation: ( 0 , 1 ) =/=> ( 1 , 0 )\n"
     ]
    },
    {
     "data": {
      "text/plain": [
       "False"
      ]
     },
     "execution_count": 15,
     "metadata": {},
     "output_type": "execute_result"
    }
   ],
   "source": [
    "is_symmetric(s,r)"
   ]
  },
  {
   "cell_type": "code",
   "execution_count": 16,
   "metadata": {},
   "outputs": [
    {
     "name": "stdout",
     "output_type": "stream",
     "text": [
      "Non-asymmetric relation: ( 2 , 3 ) ==> ( 3 , 2 )\n"
     ]
    },
    {
     "data": {
      "text/plain": [
       "False"
      ]
     },
     "execution_count": 16,
     "metadata": {},
     "output_type": "execute_result"
    }
   ],
   "source": [
    "is_asymmetric(s,r)"
   ]
  },
  {
   "cell_type": "code",
   "execution_count": 17,
   "metadata": {},
   "outputs": [
    {
     "name": "stdout",
     "output_type": "stream",
     "text": [
      "Non-antisymmetric relation: ( 2 , 3 ), ( 3 , 2 ), ==>  2 =/= 3\n"
     ]
    },
    {
     "data": {
      "text/plain": [
       "False"
      ]
     },
     "execution_count": 17,
     "metadata": {},
     "output_type": "execute_result"
    }
   ],
   "source": [
    "is_antisymmetric(s,r)"
   ]
  },
  {
   "cell_type": "code",
   "execution_count": 18,
   "metadata": {},
   "outputs": [
    {
     "name": "stdout",
     "output_type": "stream",
     "text": [
      "Non-transitive relation: ( 1 , 2 ), ( 2 , 5 ) =/=> ( 1 , 5 )\n"
     ]
    },
    {
     "data": {
      "text/plain": [
       "False"
      ]
     },
     "execution_count": 18,
     "metadata": {},
     "output_type": "execute_result"
    }
   ],
   "source": [
    "is_transitive(s,r)"
   ]
  },
  {
   "cell_type": "code",
   "execution_count": 19,
   "metadata": {},
   "outputs": [
    {
     "name": "stdout",
     "output_type": "stream",
     "text": [
      "Non-semi-transitive relation: ( 1 , 2 ), ( 2 , 3 ) =/=> ( 1 , 5 ) or ( 5 , 3 )\n"
     ]
    },
    {
     "data": {
      "text/plain": [
       "False"
      ]
     },
     "execution_count": 19,
     "metadata": {},
     "output_type": "execute_result"
    }
   ],
   "source": [
    "is_semitransitive(s,r)"
   ]
  },
  {
   "cell_type": "code",
   "execution_count": 20,
   "metadata": {},
   "outputs": [
    {
     "name": "stdout",
     "output_type": "stream",
     "text": [
      "Non-negatively-transitive relation: not( 1 , 5 ) & not( 5 , 2 ), but ( 1 , 2 )\n"
     ]
    },
    {
     "data": {
      "text/plain": [
       "False"
      ]
     },
     "execution_count": 20,
     "metadata": {},
     "output_type": "execute_result"
    }
   ],
   "source": [
    "is_negativelytransitive(s,r)"
   ]
  },
  {
   "cell_type": "code",
   "execution_count": 21,
   "metadata": {},
   "outputs": [
    {
     "name": "stdout",
     "output_type": "stream",
     "text": [
      "Non-Ferrers relation: ( 1 , 2 ), ( 4 , 5 ) =/=> ( 1 , 5 ) or ( 4 , 2 )\n",
      "Non-Ferrers relation: ( 4 , 5 ), ( 1 , 2 ) =/=> ( 4 , 2 ) or ( 1 , 5 )\n"
     ]
    },
    {
     "data": {
      "text/plain": [
       "False"
      ]
     },
     "execution_count": 21,
     "metadata": {},
     "output_type": "execute_result"
    }
   ],
   "source": [
    "is_Ferrers(s,r)"
   ]
  },
  {
   "cell_type": "code",
   "execution_count": 22,
   "metadata": {},
   "outputs": [
    {
     "name": "stdout",
     "output_type": "stream",
     "text": [
      "Non-complete: no relation between  1  and  5\n",
      "Non-complete: no relation between  5  and  1\n"
     ]
    },
    {
     "data": {
      "text/plain": [
       "False"
      ]
     },
     "execution_count": 22,
     "metadata": {},
     "output_type": "execute_result"
    }
   ],
   "source": [
    "is_complete(s,r)"
   ]
  },
  {
   "cell_type": "code",
   "execution_count": 23,
   "metadata": {},
   "outputs": [
    {
     "name": "stdout",
     "output_type": "stream",
     "text": [
      "Non-weakly-complete: no relation between  1  and  5\n",
      "Non-weakly-complete: no relation between  5  and  1\n"
     ]
    },
    {
     "data": {
      "text/plain": [
       "False"
      ]
     },
     "execution_count": 23,
     "metadata": {},
     "output_type": "execute_result"
    }
   ],
   "source": [
    "is_weaklycomplete(s,r)"
   ]
  },
  {
   "cell_type": "code",
   "execution_count": null,
   "metadata": {},
   "outputs": [],
   "source": []
  }
 ],
 "metadata": {
  "kernelspec": {
   "display_name": "Python 3",
   "language": "python",
   "name": "python3"
  },
  "language_info": {
   "codemirror_mode": {
    "name": "ipython",
    "version": 3
   },
   "file_extension": ".py",
   "mimetype": "text/x-python",
   "name": "python",
   "nbconvert_exporter": "python",
   "pygments_lexer": "ipython3",
   "version": "3.8.5"
  }
 },
 "nbformat": 4,
 "nbformat_minor": 4
}
