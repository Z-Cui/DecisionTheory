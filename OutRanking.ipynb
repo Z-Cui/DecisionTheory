{
 "cells": [
  {
   "cell_type": "code",
   "execution_count": 1,
   "metadata": {},
   "outputs": [],
   "source": [
    "numCriteria = 5\n",
    "numAlternatives = 2\n",
    "a = [10, 50, 1000, 72, 60]\n",
    "b = [7, 40, 950, 69, 74]\n",
    "\n",
    "w = [0.1, 0.3, 0.1, 0.2, 0.3]\n",
    "q = [0, 0, 0, 0, 0]\n",
    "v = [0, 15, 0, 0, 20]\n",
    "gamma = 0.6\n",
    "\n",
    "alternatives = [a, b]"
   ]
  },
  {
   "cell_type": "code",
   "execution_count": 2,
   "metadata": {},
   "outputs": [],
   "source": [
    "numCriteria = 5\n",
    "numAlternatives = 2\n",
    "a = [10, 50, 1000, 72, 60]\n",
    "b = [7, 40, 950, 69, 84]\n",
    "\n",
    "w = [0.1, 0.3, 0.1, 0.2, 0.3]\n",
    "q = [0, 0, 0, 0, 0]\n",
    "v = [0, 15, 0, 0, 20]\n",
    "gamma = 0.6\n",
    "\n",
    "alternatives = [a, b]"
   ]
  },
  {
   "cell_type": "code",
   "execution_count": 3,
   "metadata": {},
   "outputs": [],
   "source": [
    "numCriteria = 3\n",
    "numAlternatives = 5\n",
    "\n",
    "a = [7, 18, 10]\n",
    "b = [14, 11, 8]\n",
    "c = [19, 17, 3]\n",
    "d = [15, 1, 13]\n",
    "e = [14, 9, 6]\n",
    "\n",
    "w = [1/3, 1/3, 1/3]\n",
    "q = [2, 2, 2]\n",
    "v = [7.5, 7.5, 7.5]\n",
    "gamma = 0.5\n",
    "\n",
    "alternatives = [a, b, c, d, e]"
   ]
  },
  {
   "cell_type": "code",
   "execution_count": 4,
   "metadata": {},
   "outputs": [],
   "source": [
    "numCriteria = 5\n",
    "numAlternatives = 6\n",
    "\n",
    "a = [5, 4, 1, 1, 15]\n",
    "b = [2, 5, 2, 2, 12]\n",
    "c = [7, 2, 1, 0, 16]\n",
    "d = [1, 5, 2, 0, 13]\n",
    "e = [8, 0, 0, 1, 11]\n",
    "f = [3, 4, 1, 1, 15]\n",
    "\n",
    "w = [0.3, 0.2, 0.1, 0.1, 0.3]\n",
    "q = [0, 0, 0, 0, 1]\n",
    "v = [4.5, 2.5, 0, 0, 4.5]\n",
    "gamma = 0.5\n",
    "\n",
    "alternatives = [a, b, c, d, e, f]"
   ]
  },
  {
   "cell_type": "code",
   "execution_count": 5,
   "metadata": {},
   "outputs": [],
   "source": [
    "def outranking(x, y, numCriteria, w, q, v, gamma):\n",
    "    w_sum = 0\n",
    "    for i in range(numCriteria):\n",
    "        if y[i] > x[i] and y[i] - x[i] > v[i] and v[i] > 0:\n",
    "            # print(\"veto threshold\")\n",
    "            return 0\n",
    "        if x[i] >= y[i] or y[i] - x[i] <= q[i]:\n",
    "            w_sum += w[i]\n",
    "    if w_sum >= gamma:\n",
    "        return 1\n",
    "    else:\n",
    "        # print(\"concordance threshold\")\n",
    "        return 0.2\n",
    "\n",
    "import numpy as np\n",
    "def alternatives_outranking(alternatives, numCriteria, numAlternatives, w, q, v, gamma):\n",
    "    mat = np.zeros((numAlternatives, numAlternatives))\n",
    "    for i in range(numAlternatives):\n",
    "        for j in range(numAlternatives):\n",
    "            if i != j:\n",
    "                mat[i][j] = outranking(alternatives[i], alternatives[j], numCriteria, w, q, v, gamma)\n",
    "            else:\n",
    "                mat[i][j] = None\n",
    "    return mat"
   ]
  },
  {
   "cell_type": "code",
   "execution_count": 6,
   "metadata": {},
   "outputs": [
    {
     "data": {
      "text/plain": [
       "1"
      ]
     },
     "execution_count": 6,
     "metadata": {},
     "output_type": "execute_result"
    }
   ],
   "source": [
    "outranking(a, b, numCriteria, w, q, v, gamma)"
   ]
  },
  {
   "cell_type": "code",
   "execution_count": 7,
   "metadata": {},
   "outputs": [
    {
     "name": "stdout",
     "output_type": "stream",
     "text": [
      "0 for veto, 0.2 for concordance\n"
     ]
    },
    {
     "data": {
      "text/plain": [
       "array([[nan, 1. , 1. , 1. , 1. , 1. ],\n",
       "       [0.2, nan, 0. , 1. , 0. , 0.2],\n",
       "       [1. , 0. , nan, 0. , 1. , 1. ],\n",
       "       [0.2, 1. , 0. , nan, 0. , 0.2],\n",
       "       [0. , 0. , 0. , 0. , nan, 0. ],\n",
       "       [1. , 1. , 1. , 1. , 0. , nan]])"
      ]
     },
     "execution_count": 7,
     "metadata": {},
     "output_type": "execute_result"
    }
   ],
   "source": [
    "print(\"0 for veto, 0.2 for concordance\")\n",
    "alternatives_outranking(alternatives, numCriteria, numAlternatives, w, q, v, gamma)"
   ]
  },
  {
   "cell_type": "code",
   "execution_count": null,
   "metadata": {},
   "outputs": [],
   "source": []
  }
 ],
 "metadata": {
  "kernelspec": {
   "display_name": "Python 3",
   "language": "python",
   "name": "python3"
  },
  "language_info": {
   "codemirror_mode": {
    "name": "ipython",
    "version": 3
   },
   "file_extension": ".py",
   "mimetype": "text/x-python",
   "name": "python",
   "nbconvert_exporter": "python",
   "pygments_lexer": "ipython3",
   "version": "3.8.5"
  }
 },
 "nbformat": 4,
 "nbformat_minor": 4
}
