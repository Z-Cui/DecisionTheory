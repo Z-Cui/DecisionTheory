{
 "cells": [
  {
   "cell_type": "code",
   "execution_count": 1,
   "metadata": {},
   "outputs": [],
   "source": [
    "# uninominal one-stage voting (plurality voting)\n",
    "def plurality(n_candidates, n_voters, votes, candidates):\n",
    "    \n",
    "    count = [0] * n_candidates\n",
    "    winner = 'unknown'\n",
    "    \n",
    "    if n_voters != sum(v[0] for v in votes):\n",
    "        print(\"Error! n_voters\")\n",
    "        \n",
    "    elif n_candidates != len(votes[0][1]): \n",
    "        print(\"Error! n_candidates\")\n",
    "        \n",
    "    else:\n",
    "        for v in votes:\n",
    "            current_order = v[1]\n",
    "            for i in range(n_candidates):\n",
    "                if current_order.find(candidates[i]) == 0:\n",
    "                    count[i] += v[0]\n",
    "        for i in range(n_candidates):\n",
    "            print(\"score(\",candidates[i], \"): \", count[i])\n",
    "        \n",
    "        winner = candidates[count.index(max(count))]\n",
    "        \n",
    "    return count, winner"
   ]
  },
  {
   "cell_type": "code",
   "execution_count": 2,
   "metadata": {},
   "outputs": [
    {
     "name": "stdout",
     "output_type": "stream",
     "text": [
      "score( a ):  10\n",
      "score( b ):  6\n",
      "score( c ):  5\n",
      "scores: [10, 6, 5] ==> winner: a\n"
     ]
    }
   ],
   "source": [
    "candidates = ['a', 'b', 'c']\n",
    "n_candidates = 3\n",
    "n_voters = 21\n",
    "\n",
    "votes = [\n",
    "    [10, \"abc\"],\n",
    "    [6, \"bca\"],\n",
    "    [5, \"cba\"]\n",
    "]\n",
    "\n",
    "scores, winner = plurality(n_candidates, n_voters, votes, candidates)\n",
    "print(\"scores:\", scores, \"==> winner:\", winner)"
   ]
  },
  {
   "cell_type": "code",
   "execution_count": null,
   "metadata": {},
   "outputs": [],
   "source": []
  },
  {
   "cell_type": "code",
   "execution_count": 3,
   "metadata": {},
   "outputs": [],
   "source": [
    "# uninominal two-stage voting system\n",
    "from heapq import nlargest\n",
    "import copy\n",
    "\n",
    "def two_stage(n_candidates, n_voters, votes, candidates):\n",
    "    print(\"1st stage:\")\n",
    "    # first round\n",
    "    scores, winner = plurality(n_candidates, n_voters, votes, candidates)\n",
    "    # check if a candidate has the absolute majority\n",
    "    if max(scores) > n_voters/2:\n",
    "        print(\"winner:\", winner, \"has the absolute majority\")\n",
    "        print(\"----------\")\n",
    "        return scores, winner\n",
    "    else:\n",
    "        two_cand = nlargest(2, enumerate(scores), key=lambda x: x[1])\n",
    "        print(\"candidates for 2nd round:\", candidates[two_cand[0][0]], candidates[two_cand[1][0]])\n",
    "        print(\"----------\")\n",
    "        \n",
    "        votes_copy = copy.deepcopy(votes)\n",
    "        for v in votes_copy:\n",
    "            v[1] = ''.join(c for c in v[1] if c == candidates[two_cand[0][0]] or c == candidates[two_cand[1][0]])\n",
    "        \n",
    "        candidates = [candidates[two_cand[0][0]], candidates[two_cand[1][0]]]\n",
    "        print(\"2nd stage:\")\n",
    "        scores, winner = plurality(2, n_voters, votes_copy, candidates)\n",
    "        print(\"winner:\", winner)\n",
    "        print(\"----------\")"
   ]
  },
  {
   "cell_type": "code",
   "execution_count": 4,
   "metadata": {
    "scrolled": true
   },
   "outputs": [
    {
     "name": "stdout",
     "output_type": "stream",
     "text": [
      "1st stage:\n",
      "score( a ):  10\n",
      "score( b ):  6\n",
      "score( c ):  5\n",
      "candidates for 2nd round: a b\n",
      "----------\n",
      "2nd stage:\n",
      "score( a ):  10\n",
      "score( b ):  11\n",
      "winner: b\n",
      "----------\n"
     ]
    }
   ],
   "source": [
    "candidates = ['a', 'b', 'c']\n",
    "n_candidates = 3\n",
    "n_voters = 21\n",
    "\n",
    "votes = [\n",
    "    [10, \"abc\"],\n",
    "    [6, \"bca\"],\n",
    "    [5, \"cba\"]\n",
    "]\n",
    "\n",
    "two_stage(n_candidates, n_voters, votes, candidates)"
   ]
  },
  {
   "cell_type": "code",
   "execution_count": null,
   "metadata": {},
   "outputs": [],
   "source": []
  },
  {
   "cell_type": "code",
   "execution_count": null,
   "metadata": {},
   "outputs": [],
   "source": []
  },
  {
   "cell_type": "code",
   "execution_count": 5,
   "metadata": {},
   "outputs": [],
   "source": [
    "# sequential voting\n",
    "def sequential_voting(n_candidates, n_voters, votes, agenda):\n",
    "\n",
    "    winner = 'unknown'\n",
    "    \n",
    "    if n_voters != sum(v[0] for v in votes):\n",
    "        print(\"Error! n_voters\")\n",
    "        \n",
    "    elif n_candidates != len(votes[0][1]): \n",
    "        print(\"Error! n_candidates\")\n",
    "        \n",
    "    else:\n",
    "        winner = agenda[0]\n",
    "        for i in range(n_candidates-1):\n",
    "            count = [0] * 2\n",
    "            challenger = agenda[i+1]\n",
    "            for v in votes:\n",
    "                order = [s for s in v[1]]\n",
    "                if order.index(winner) < order.index(challenger):\n",
    "                    count[0] += v[0]\n",
    "                else:\n",
    "                    count[1] += v[0]\n",
    "            print(winner, \"(\", count[0], \") vs\", challenger, \"(\", count[1], \")\", end='')\n",
    "            if count[0] < count[1]:\n",
    "                winner = challenger\n",
    "            print(\" ==>\", winner)\n",
    "    print(\"winner:\", winner)\n",
    "    return winner"
   ]
  },
  {
   "cell_type": "code",
   "execution_count": 6,
   "metadata": {},
   "outputs": [
    {
     "name": "stdout",
     "output_type": "stream",
     "text": [
      "a ( 2 ) vs b ( 1 ) ==> a\n",
      "a ( 1 ) vs c ( 2 ) ==> c\n",
      "winner: c\n"
     ]
    }
   ],
   "source": [
    "candidates = ['a', 'b', 'c']\n",
    "n_candidates = 3\n",
    "n_voters = 3\n",
    "\n",
    "votes = [\n",
    "    [1, \"abc\"],\n",
    "    [1, \"bca\"],\n",
    "    [1, \"cab\"]\n",
    "]\n",
    "\n",
    "agenda = ['a', 'b', 'c']\n",
    "\n",
    "winner = sequential_voting(n_candidates, n_voters, votes, agenda)"
   ]
  },
  {
   "cell_type": "code",
   "execution_count": 7,
   "metadata": {},
   "outputs": [
    {
     "name": "stdout",
     "output_type": "stream",
     "text": [
      "b ( 2 ) vs c ( 1 ) ==> b\n",
      "b ( 1 ) vs a ( 2 ) ==> a\n",
      "winner: a\n"
     ]
    }
   ],
   "source": [
    "candidates = ['a', 'b', 'c']\n",
    "n_candidates = 3\n",
    "n_voters = 3\n",
    "\n",
    "votes = [\n",
    "    [1, \"abc\"],\n",
    "    [1, \"bca\"],\n",
    "    [1, \"cab\"]\n",
    "]\n",
    "\n",
    "agenda = ['b', 'c', 'a']\n",
    "\n",
    "winner = sequential_voting(n_candidates, n_voters, votes, agenda)"
   ]
  },
  {
   "cell_type": "code",
   "execution_count": 8,
   "metadata": {},
   "outputs": [
    {
     "name": "stdout",
     "output_type": "stream",
     "text": [
      "a ( 1 ) vs b ( 2 ) ==> b\n",
      "b ( 1 ) vs c ( 2 ) ==> c\n",
      "c ( 1 ) vs d ( 2 ) ==> d\n",
      "winner: d\n"
     ]
    }
   ],
   "source": [
    "candidates = ['a', 'b', 'c', 'd']\n",
    "n_candidates = 4\n",
    "n_voters = 3\n",
    "\n",
    "votes = [\n",
    "    [1, \"badc\"],\n",
    "    [1, \"cbad\"],\n",
    "    [1, \"adcb\"]\n",
    "]\n",
    "\n",
    "agenda = ['a', 'b', 'c', 'd']\n",
    "\n",
    "winner = sequential_voting(n_candidates, n_voters, votes, agenda)"
   ]
  },
  {
   "cell_type": "code",
   "execution_count": 9,
   "metadata": {},
   "outputs": [],
   "source": [
    "# condorcet winner\n",
    "from itertools import combinations \n",
    "def condorcet_winner(n_candidates, n_voters, votes):\n",
    "    \n",
    "    if n_voters != sum(v[0] for v in votes):\n",
    "        print(\"Error! n_voters\")\n",
    "        \n",
    "    elif n_candidates != len(votes[0][1]): \n",
    "        print(\"Error! n_candidates\")\n",
    "    else: \n",
    "        can = candidates[:n_candidates]\n",
    "        combinations_can = sum([list(map(list, combinations(can, 2)))], [])\n",
    "        \n",
    "        for pair in combinations_can:\n",
    "            count = [0] * 2\n",
    "            winner = pair[0]\n",
    "            challenger = pair[1]\n",
    "            for v in votes:\n",
    "                order = [s for s in v[1]]\n",
    "                if order.index(winner) < order.index(challenger):\n",
    "                    count[0] += v[0]\n",
    "                else:\n",
    "                    count[1] += v[0]\n",
    "            print(winner, \"vs\", challenger, end='')\n",
    "            if count[0] > count[1]:\n",
    "                print(\"   ===>\", winner, \"(\", count[0], \") >\", challenger, \"(\", count[1], \")\")\n",
    "            if count[0] < count[1]:\n",
    "                print(\"   ===>\", challenger, \"(\", count[1], \") >\", winner, \"(\", count[0], \")\")"
   ]
  },
  {
   "cell_type": "code",
   "execution_count": 10,
   "metadata": {},
   "outputs": [
    {
     "name": "stdout",
     "output_type": "stream",
     "text": [
      "a vs b   ===> a ( 2 ) > b ( 1 )\n",
      "a vs c   ===> a ( 2 ) > c ( 1 )\n",
      "b vs c   ===> c ( 2 ) > b ( 1 )\n"
     ]
    }
   ],
   "source": [
    "candidates = ['a', 'b', 'c']\n",
    "n_candidates = 3\n",
    "n_voters = 3\n",
    "\n",
    "votes = [\n",
    "    [1, \"abc\"],\n",
    "    [1, \"acb\"],\n",
    "    [1, \"cba\"]\n",
    "]\n",
    "\n",
    "condorcet_winner(n_candidates, n_voters, votes)"
   ]
  },
  {
   "cell_type": "code",
   "execution_count": null,
   "metadata": {},
   "outputs": [],
   "source": []
  },
  {
   "cell_type": "code",
   "execution_count": 11,
   "metadata": {},
   "outputs": [
    {
     "name": "stdout",
     "output_type": "stream",
     "text": [
      "score( a ):  10\n",
      "score( b ):  6\n",
      "score( c ):  5\n",
      "scores: [10, 6, 5] ==> winner: a\n",
      "----------\n",
      "a vs b   ===> b ( 11 ) > a ( 10 )\n",
      "a vs c   ===> c ( 11 ) > a ( 10 )\n",
      "b vs c   ===> b ( 16 ) > c ( 5 )\n"
     ]
    }
   ],
   "source": [
    "candidates = ['a', 'b', 'c']\n",
    "n_candidates = 3\n",
    "n_voters = 21\n",
    "\n",
    "votes = [\n",
    "    [10, \"abc\"],\n",
    "    [6, \"bca\"],\n",
    "    [5, \"cba\"]\n",
    "]\n",
    "\n",
    "scores, winner = plurality(n_candidates, n_voters, votes, candidates)\n",
    "print(\"scores:\", scores, \"==> winner:\", winner)\n",
    "print(\"----------\")\n",
    "condorcet_winner(n_candidates, n_voters, votes)"
   ]
  },
  {
   "cell_type": "code",
   "execution_count": null,
   "metadata": {},
   "outputs": [],
   "source": []
  },
  {
   "cell_type": "code",
   "execution_count": 12,
   "metadata": {},
   "outputs": [
    {
     "name": "stdout",
     "output_type": "stream",
     "text": [
      "1st stage:\n",
      "score( a ):  5\n",
      "score( b ):  10\n",
      "score( c ):  6\n",
      "score( d ):  0\n",
      "candidates for 2nd round: b c\n",
      "----------\n",
      "2nd stage:\n",
      "score( b ):  15\n",
      "score( c ):  6\n",
      "winner: b\n",
      "----------\n",
      "----------\n",
      "a vs b   ===> a ( 11 ) > b ( 10 )\n",
      "a vs c   ===> a ( 15 ) > c ( 6 )\n",
      "a vs d   ===> a ( 21 ) > d ( 0 )\n",
      "b vs c   ===> b ( 15 ) > c ( 6 )\n",
      "b vs d   ===> d ( 11 ) > b ( 10 )\n",
      "c vs d   ===> c ( 16 ) > d ( 5 )\n"
     ]
    }
   ],
   "source": [
    "candidates = ['a', 'b', 'c', 'd']\n",
    "n_candidates = 4\n",
    "n_voters = 21\n",
    "\n",
    "votes = [\n",
    "    [10, \"bacd\"],\n",
    "    [6, \"cadb\"],\n",
    "    [5, \"adbc\"]\n",
    "]\n",
    "\n",
    "two_stage(n_candidates, n_voters, votes, candidates)\n",
    "print(\"----------\")\n",
    "\n",
    "condorcet_winner(n_candidates, n_voters, votes)"
   ]
  },
  {
   "cell_type": "code",
   "execution_count": null,
   "metadata": {},
   "outputs": [],
   "source": []
  },
  {
   "cell_type": "code",
   "execution_count": null,
   "metadata": {},
   "outputs": [],
   "source": []
  },
  {
   "cell_type": "code",
   "execution_count": null,
   "metadata": {},
   "outputs": [],
   "source": []
  },
  {
   "cell_type": "code",
   "execution_count": null,
   "metadata": {},
   "outputs": [],
   "source": []
  }
 ],
 "metadata": {
  "kernelspec": {
   "display_name": "Python 3",
   "language": "python",
   "name": "python3"
  },
  "language_info": {
   "codemirror_mode": {
    "name": "ipython",
    "version": 3
   },
   "file_extension": ".py",
   "mimetype": "text/x-python",
   "name": "python",
   "nbconvert_exporter": "python",
   "pygments_lexer": "ipython3",
   "version": "3.8.5"
  }
 },
 "nbformat": 4,
 "nbformat_minor": 4
}
